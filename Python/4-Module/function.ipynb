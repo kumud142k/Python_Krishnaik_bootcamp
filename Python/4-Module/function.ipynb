{
 "cells": [
  {
   "cell_type": "markdown",
   "metadata": {},
   "source": [
    "### Functions"
   ]
  },
  {
   "cell_type": "code",
   "execution_count": 2,
   "metadata": {},
   "outputs": [],
   "source": [
    "## Syntax\n",
    "\n",
    "def function_name(parameters):\n",
    "    \"\"\" DOCSTRING \"\"\"\n",
    "    # function body\n",
    "\n",
    "    return expression"
   ]
  },
  {
   "cell_type": "code",
   "execution_count": null,
   "metadata": {},
   "outputs": [],
   "source": [
    "\n",
    "#even or odd function \n",
    "def even_or_odd(num):\n",
    "    \"\"\"This function find the number is even or odd\"\"\"\n",
    "    if num%2==0:\n",
    "        return \"number is even\"\n",
    "    else:\n",
    "        return \"number is odd\""
   ]
  },
  {
   "cell_type": "code",
   "execution_count": null,
   "metadata": {},
   "outputs": [
    {
     "data": {
      "text/plain": [
       "'number is odd'"
      ]
     },
     "execution_count": 6,
     "metadata": {},
     "output_type": "execute_result"
    }
   ],
   "source": [
    "#call the function \n",
    "even_or_odd(25)"
   ]
  },
  {
   "cell_type": "code",
   "execution_count": 16,
   "metadata": {},
   "outputs": [
    {
     "name": "stdout",
     "output_type": "stream",
     "text": [
      "9, is the sum\n"
     ]
    }
   ],
   "source": [
    "## function with multiple parameters\n",
    "\n",
    "def add(a,b):\n",
    "    \"\"\"adding two numbers\"\"\"\n",
    "    return a+b\n",
    "\n",
    "result=add(4,5)\n",
    "#print(\"Add result is\", result)\n",
    "print(f\"{result}, is the sum\")"
   ]
  },
  {
   "cell_type": "code",
   "execution_count": 30,
   "metadata": {},
   "outputs": [],
   "source": [
    "#keywords and positional arguments in functions \n",
    "\n",
    "#arguments\n",
    "\n",
    "def func_args(*krish):\n",
    "    for number in krish:\n",
    "        print(number)"
   ]
  },
  {
   "cell_type": "code",
   "execution_count": 32,
   "metadata": {},
   "outputs": [
    {
     "name": "stdout",
     "output_type": "stream",
     "text": [
      "1\n",
      "2\n",
      "3\n",
      "4\n",
      "5\n",
      "krish\n"
     ]
    }
   ],
   "source": [
    "func_args(1,2,3,4,5,\"krish\")"
   ]
  },
  {
   "cell_type": "code",
   "execution_count": 3,
   "metadata": {},
   "outputs": [],
   "source": [
    "### Keyword arguments\n",
    "#all the parameters will b ein key-value pairs\n",
    "\n",
    "def print_details(**kwargs):\n",
    "    for key,value in kwargs.items():\n",
    "        print(f\"{key}:{value}\")\n",
    "        \n",
    "              "
   ]
  },
  {
   "cell_type": "code",
   "execution_count": 6,
   "metadata": {},
   "outputs": [
    {
     "name": "stdout",
     "output_type": "stream",
     "text": [
      "name:kumud\n",
      "age:29\n",
      "sex:Male\n"
     ]
    }
   ],
   "source": [
    "print_details(name=\"kumud\", age=29, sex=\"Male\")"
   ]
  },
  {
   "cell_type": "code",
   "execution_count": 9,
   "metadata": {},
   "outputs": [],
   "source": [
    "#printing positional and kewords arguments\n",
    "\n",
    "def print_details_pk(*args, **kwargs):\n",
    "    for val in args:\n",
    "        print(f\"positional arguments: {val}\")\n",
    "\n",
    "    for key,value in kwargs.items():\n",
    "        print(f\"{key}:{value}\")\n"
   ]
  },
  {
   "cell_type": "code",
   "execution_count": 10,
   "metadata": {},
   "outputs": [
    {
     "name": "stdout",
     "output_type": "stream",
     "text": [
      "positional arguments: 1\n",
      "positional arguments: 2\n",
      "positional arguments: 3\n",
      "positional arguments: 4\n",
      "positional arguments: 5\n",
      "name:abdul\n",
      "age:45\n",
      "counyry:Afghanistan\n"
     ]
    }
   ],
   "source": [
    "print_details_pk(1,2,3,4,5,name=\"abdul\", age=45, counyry=\"Afghanistan\")"
   ]
  },
  {
   "cell_type": "markdown",
   "metadata": {},
   "source": [
    "### Important Functions in Python"
   ]
  },
  {
   "cell_type": "markdown",
   "metadata": {},
   "source": [
    "#examples with functions"
   ]
  },
  {
   "cell_type": "code",
   "execution_count": null,
   "metadata": {},
   "outputs": [],
   "source": [
    "#temperature conversion \n",
    "\n",
    "def temp_conv(temp, unit):\n",
    "    \"\"\"This function converts temperature between Celsius to Fahrenheit\"\"\"\n",
    "    if unit=='C':\n",
    " "
   ]
  },
  {
   "cell_type": "code",
   "execution_count": 13,
   "metadata": {},
   "outputs": [
    {
     "name": "stdout",
     "output_type": "stream",
     "text": [
      "490.0\n"
     ]
    }
   ],
   "source": [
    "#calcualte total cost \n",
    "def calculate_total_cost(cart):\n",
    "    total_cost=0\n",
    "    for item in cart:\n",
    "        total_cost+=item['price']*item['quantity']\n",
    "\n",
    "    return total_cost\n",
    "\n",
    "\n",
    "# cart data\n",
    "\n",
    "cart=[\n",
    "      {'name':\"Banana\", 'price':50, 'quantity':2},\n",
    "      {'name':'Orange', 'price':60, 'quantity':1.5},\n",
    "      {'name':'Apple', 'price':150, 'quantity':2}\n",
    "]\n",
    "\n",
    "## calling the function \n",
    "total_cost=calculate_total_cost(cart)\n",
    "print(total_cost)\n"
   ]
  },
  {
   "cell_type": "code",
   "execution_count": 14,
   "metadata": {},
   "outputs": [
    {
     "name": "stdout",
     "output_type": "stream",
     "text": [
      "False\n",
      "True\n"
     ]
    }
   ],
   "source": [
    "# check if a string is PALINDROME\n",
    "''' ABa, '''\n",
    "\n",
    "def is_palindrome(s):\n",
    "    s=s.lower().replace(\" \", \"\")\n",
    "    return s==s[::-1]\n",
    "\n",
    "print(is_palindrome('my honest answer'))\n",
    "print(is_palindrome('abaaba'))"
   ]
  },
  {
   "cell_type": "code",
   "execution_count": 16,
   "metadata": {},
   "outputs": [
    {
     "name": "stdout",
     "output_type": "stream",
     "text": [
      "120\n"
     ]
    }
   ],
   "source": [
    "#Calculate the factorials using recursion\n",
    "\n",
    "def factorial(n):\n",
    "    if n==0:\n",
    "        return 1\n",
    "    else:\n",
    "        return n * factorial(n-1)\n",
    "    \n",
    "print(factorial(5))\n",
    "\n"
   ]
  },
  {
   "cell_type": "code",
   "execution_count": 21,
   "metadata": {},
   "outputs": [
    {
     "name": "stdout",
     "output_type": "stream",
     "text": [
      "{'hello': 1, 'my': 1, 'name': 1, 'is': 1, 'kumud': 1, 'i': 1, 'am': 1, 'excited': 1, 'to': 1, 'start': 1, 'this': 1, 'journey': 1, 'in': 1, 'morning': 1}\n"
     ]
    }
   ],
   "source": [
    "# a function to read a file and count the frequency of each word\n",
    "\n",
    "def count_word_frequency(file_path):\n",
    "    word_count={}\n",
    "    with open(file_path, 'r') as file:\n",
    "        for line in file:\n",
    "            words=line.split()\n",
    "            for word in words:\n",
    "                word=word.lower().strip('.,!,?::\"\\'')\n",
    "                word_count[word]=word_count.get(word,0)+1\n",
    "\n",
    "    return word_count\n",
    "\n",
    "filepath= 'C:/Users/Buddy4Study/my_project/venv/sample.txt'\n",
    "word_frequency=count_word_frequency(filepath)\n",
    "print(word_frequency)"
   ]
  },
  {
   "cell_type": "code",
   "execution_count": null,
   "metadata": {},
   "outputs": [],
   "source": [
    " "
   ]
  },
  {
   "cell_type": "markdown",
   "metadata": {},
   "source": [
    "### Lambda Function"
   ]
  },
  {
   "cell_type": "code",
   "execution_count": 22,
   "metadata": {},
   "outputs": [
    {
     "data": {
      "text/plain": [
       "<function __main__.<lambda>(arguments)>"
      ]
     },
     "execution_count": 22,
     "metadata": {},
     "output_type": "execute_result"
    }
   ],
   "source": [
    "# Syntax\n",
    "lambda arguments: expression \n"
   ]
  },
  {
   "cell_type": "code",
   "execution_count": null,
   "metadata": {},
   "outputs": [
    {
     "name": "stdout",
     "output_type": "stream",
     "text": [
      "7\n"
     ]
    }
   ],
   "source": [
    "addition=lambda a,b: a+b\n",
    "\n",
    "type(addition)\n",
    "print(addition(4,3))"
   ]
  },
  {
   "cell_type": "code",
   "execution_count": 29,
   "metadata": {},
   "outputs": [
    {
     "data": {
      "text/plain": [
       "[1, 8, 27, 64, 125]"
      ]
     },
     "execution_count": 29,
     "metadata": {},
     "output_type": "execute_result"
    }
   ],
   "source": [
    "## map() function ---> it applies afunction to all items in a list\n",
    "\n",
    "numbers=[1,2,3,4,5]\n",
    "list(map(lambda x:x**3, numbers))"
   ]
  },
  {
   "cell_type": "markdown",
   "metadata": {},
   "source": [
    "### MAP function"
   ]
  },
  {
   "cell_type": "code",
   "execution_count": 30,
   "metadata": {},
   "outputs": [
    {
     "data": {
      "text/plain": [
       "' \\nThe map() function applies a given function to all items in an input list(or any other iterable) and returns a map \\nobject(an iterator). This is particularly useful for transforming data in a list comprehensively.\\n'"
      ]
     },
     "execution_count": 30,
     "metadata": {},
     "output_type": "execute_result"
    }
   ],
   "source": [
    "''' \n",
    "The map() function applies a given function to all items in an input list(or any other iterable) and returns a map \n",
    "object(an iterator). This is particularly useful for transforming data in a list comprehensively.\n",
    "'''"
   ]
  },
  {
   "cell_type": "code",
   "execution_count": 32,
   "metadata": {},
   "outputs": [],
   "source": [
    "def squres(x):\n",
    "    return x**2"
   ]
  },
  {
   "cell_type": "code",
   "execution_count": 33,
   "metadata": {},
   "outputs": [
    {
     "data": {
      "text/plain": [
       "[1, 4, 9, 16, 25, 36, 49]"
      ]
     },
     "execution_count": 33,
     "metadata": {},
     "output_type": "execute_result"
    }
   ],
   "source": [
    "numbers=[1,2,3,4,5,6,7]\n",
    "list(map(squres, numbers))"
   ]
  },
  {
   "cell_type": "code",
   "execution_count": null,
   "metadata": {},
   "outputs": [
    {
     "data": {
      "text/plain": [
       "[1, 4, 9, 16, 25, 36, 49]"
      ]
     },
     "execution_count": 35,
     "metadata": {},
     "output_type": "execute_result"
    }
   ],
   "source": [
    "# Lambda function with map\n",
    "\n",
    "list(map(lambda x:x**2, numbers))"
   ]
  },
  {
   "cell_type": "code",
   "execution_count": null,
   "metadata": {},
   "outputs": [
    {
     "name": "stdout",
     "output_type": "stream",
     "text": [
      "[5, 7, 9]\n"
     ]
    }
   ],
   "source": [
    "# Map multiple iterables\n",
    "\n",
    "numbers1=[1,2,3]\n",
    "numbers2=[4,5,6]\n",
    "\n",
    "added_numbers=list(map(lambda x,y:x+y, numbers1, numbers2))\n",
    "print(added_numbers)"
   ]
  },
  {
   "cell_type": "code",
   "execution_count": 37,
   "metadata": {},
   "outputs": [
    {
     "name": "stdout",
     "output_type": "stream",
     "text": [
      "[1, 2, 3, 4, 5]\n"
     ]
    }
   ],
   "source": [
    "## map() to convert a list of strings to integers\n",
    "#use map to convert strings to integers\n",
    "\n",
    "str_numbers= ['1', '2', '3', '4', '5']\n",
    "int_numbers=list(map(int, str_numbers))\n",
    "\n",
    "print(int_numbers)  "
   ]
  },
  {
   "cell_type": "code",
   "execution_count": 39,
   "metadata": {},
   "outputs": [
    {
     "name": "stdout",
     "output_type": "stream",
     "text": [
      "['APPLE', 'BANANA', 'CHERRY']\n"
     ]
    }
   ],
   "source": [
    "words=['apple', 'banana', 'cherry']\n",
    "upper_word=list(map(str.upper, words))\n",
    "print(upper_word)"
   ]
  },
  {
   "cell_type": "code",
   "execution_count": 40,
   "metadata": {},
   "outputs": [
    {
     "data": {
      "text/plain": [
       "['krish', 'jack']"
      ]
     },
     "execution_count": 40,
     "metadata": {},
     "output_type": "execute_result"
    }
   ],
   "source": [
    "# map function to a dictionary \n",
    "def get_name(person):\n",
    "    return person['name']\n",
    "\n",
    "people=[\n",
    "    {'name':'krish', 'age':32},\n",
    "    {'name':'jack', 'age':33}\n",
    "]\n",
    "list(map(get_name, people))"
   ]
  },
  {
   "cell_type": "markdown",
   "metadata": {},
   "source": [
    "### Conclusion on MAP function\n",
    "\n",
    "The map() function is powerful tool for applying transfirmation to iterable data structures. It can be used with regular functions, lamda functions, and even multiple iterables, providing a versatile approach to data processing in python. By understanding and utilizing map(), you can write more efficient and readable code."
   ]
  },
  {
   "cell_type": "markdown",
   "metadata": {},
   "source": []
  },
  {
   "cell_type": "markdown",
   "metadata": {},
   "source": [
    "### Filter function"
   ]
  },
  {
   "cell_type": "markdown",
   "metadata": {},
   "source": [
    "The filter() function "
   ]
  },
  {
   "cell_type": "code",
   "execution_count": 2,
   "metadata": {},
   "outputs": [],
   "source": [
    "def even(num):\n",
    "    if num%2==0:\n",
    "        return num\n",
    "    "
   ]
  },
  {
   "cell_type": "code",
   "execution_count": 4,
   "metadata": {},
   "outputs": [
    {
     "data": {
      "text/plain": [
       "24"
      ]
     },
     "execution_count": 4,
     "metadata": {},
     "output_type": "execute_result"
    }
   ],
   "source": [
    "even(24)"
   ]
  },
  {
   "cell_type": "code",
   "execution_count": 6,
   "metadata": {},
   "outputs": [],
   "source": [
    "lst=[2,4,5,6,7,8,9,10]"
   ]
  },
  {
   "cell_type": "code",
   "execution_count": 8,
   "metadata": {},
   "outputs": [
    {
     "data": {
      "text/plain": [
       "[2, 4, 6, 8, 10]"
      ]
     },
     "execution_count": 8,
     "metadata": {},
     "output_type": "execute_result"
    }
   ],
   "source": [
    "list(filter(even, lst))"
   ]
  },
  {
   "cell_type": "code",
   "execution_count": 9,
   "metadata": {},
   "outputs": [
    {
     "name": "stdout",
     "output_type": "stream",
     "text": [
      "[6, 7, 8, 9, 10]\n"
     ]
    }
   ],
   "source": [
    "# Filter with lambda function\n",
    "numbers=[1,2,3,4,5,6,7,8,9,10]\n",
    "numbers_gretaer_than_five=list(filter(lambda x:x>5, numbers))\n",
    "print(numbers_gretaer_than_five)"
   ]
  },
  {
   "cell_type": "code",
   "execution_count": 14,
   "metadata": {},
   "outputs": [
    {
     "name": "stdout",
     "output_type": "stream",
     "text": [
      "[6, 8, 10]\n"
     ]
    }
   ],
   "source": [
    "# Filter with lambda and multiple conditions\n",
    "numbers=[1,2,3,4,5,6,7,8,9,10]\n",
    "numbers_multiple_conditions=list(filter(lambda x: x>5 and x%2==0, numbers))\n",
    "print(numbers_multiple_conditions)"
   ]
  },
  {
   "cell_type": "code",
   "execution_count": 16,
   "metadata": {},
   "outputs": [
    {
     "data": {
      "text/plain": [
       "[{'name': 'Krish', 'age': 32}, {'name': 'Naman', 'age': 28}]"
      ]
     },
     "execution_count": 16,
     "metadata": {},
     "output_type": "execute_result"
    }
   ],
   "source": [
    "#Filter to check if the age is greater than 25 in dictionaries or not\n",
    "\n",
    "people=[\n",
    "    {'name':'Krish', 'age':32},\n",
    "    {'name':'Naman', 'age':28},\n",
    "    {'name':'Rahul', 'age':18}\n",
    "]\n",
    "\n",
    "def age_greater_than_25(person):\n",
    "    return person['age']>25\n",
    "\n",
    "list(filter(age_greater_than_25, people))\n"
   ]
  },
  {
   "cell_type": "markdown",
   "metadata": {},
   "source": [
    "#### Conclusion::::\n",
    "\n",
    "The filter() function is a powerful tool for creating iterators that filter items out of an iterable based on a function.\n",
    "It is commonly used for data cleaning, filtering objects, and removing unwanted elements from lists. By mastering filter(), we can write more concise and efficient code for presenting and manipulating collections in python. "
   ]
  },
  {
   "cell_type": "code",
   "execution_count": null,
   "metadata": {},
   "outputs": [],
   "source": []
  }
 ],
 "metadata": {
  "kernelspec": {
   "display_name": "venv",
   "language": "python",
   "name": "python3"
  },
  "language_info": {
   "codemirror_mode": {
    "name": "ipython",
    "version": 3
   },
   "file_extension": ".py",
   "mimetype": "text/x-python",
   "name": "python",
   "nbconvert_exporter": "python",
   "pygments_lexer": "ipython3",
   "version": "3.8.2"
  }
 },
 "nbformat": 4,
 "nbformat_minor": 2
}
