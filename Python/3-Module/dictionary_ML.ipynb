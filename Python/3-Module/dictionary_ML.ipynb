{
 "cells": [
  {
   "cell_type": "code",
   "execution_count": 1,
   "metadata": {},
   "outputs": [
    {
     "name": "stdout",
     "output_type": "stream",
     "text": [
      "{0: 0, 1: 1, 2: 4, 3: 9, 4: 16, 5: 25}\n"
     ]
    }
   ],
   "source": [
    "# dictionary comprehensions\n",
    "squres={x:x**2 for x in range (6)}\n",
    "print(squres)"
   ]
  },
  {
   "cell_type": "code",
   "execution_count": 3,
   "metadata": {},
   "outputs": [
    {
     "name": "stdout",
     "output_type": "stream",
     "text": [
      "{0: 0, 2: 4, 4: 16, 6: 36, 8: 64}\n"
     ]
    }
   ],
   "source": [
    "#  conditions dictionary comprehensions\n",
    "evens={x:x**2 for x in range (10) if x%2==0}\n",
    "print(evens)"
   ]
  },
  {
   "cell_type": "code",
   "execution_count": 9,
   "metadata": {},
   "outputs": [
    {
     "name": "stdout",
     "output_type": "stream",
     "text": [
      "{1: 1, 2: 2, 3: 3, 4: 4, 100: 1, 5: 6}\n"
     ]
    }
   ],
   "source": [
    "## Practical examples\n",
    "# Use a dictionary to count the frequency of elements in list\n",
    "\n",
    "numbers=[1,2,2,3,3,3,4,4,4,4,100, 5,5,5,5,5,5]\n",
    "frequency={}\n",
    "\n",
    "#for loop \n",
    "for item in numbers:\n",
    "    if item in frequency:\n",
    "        frequency[item]+=1\n",
    "    else:\n",
    "        frequency[item]=1\n",
    "\n",
    "print(frequency)"
   ]
  },
  {
   "cell_type": "code",
   "execution_count": 12,
   "metadata": {},
   "outputs": [
    {
     "name": "stdout",
     "output_type": "stream",
     "text": [
      "{'a': 100, 'cd': 567, 'fg': 798, 'jk': 55}\n"
     ]
    }
   ],
   "source": [
    "# Merge dictionaries into one\n",
    "\n",
    "dict1={\"a\":100, \"cd\":567}\n",
    "dict2={\"fg\":798, \"jk\":55}\n",
    "merged_dict={**dict1, **dict2}   #merging two dicts\n",
    "print(merged_dict)"
   ]
  },
  {
   "cell_type": "code",
   "execution_count": null,
   "metadata": {},
   "outputs": [],
   "source": []
  }
 ],
 "metadata": {
  "kernelspec": {
   "display_name": "venv",
   "language": "python",
   "name": "python3"
  },
  "language_info": {
   "codemirror_mode": {
    "name": "ipython",
    "version": 3
   },
   "file_extension": ".py",
   "mimetype": "text/x-python",
   "name": "python",
   "nbconvert_exporter": "python",
   "pygments_lexer": "ipython3",
   "version": "3.8.2"
  }
 },
 "nbformat": 4,
 "nbformat_minor": 2
}
